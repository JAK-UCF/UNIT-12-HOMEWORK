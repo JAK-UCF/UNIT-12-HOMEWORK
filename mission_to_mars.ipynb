{
 "cells": [
  {
   "cell_type": "markdown",
   "metadata": {},
   "source": [
    "# Mission to Mars: Scraping"
   ]
  },
  {
   "cell_type": "code",
   "execution_count": 1,
   "metadata": {},
   "outputs": [],
   "source": [
    "import pandas as pd\n",
    "import pymongo\n",
    "\n",
    "from bs4 import BeautifulSoup as bs\n",
    "from splinter import Browser"
   ]
  },
  {
   "cell_type": "code",
   "execution_count": 2,
   "metadata": {},
   "outputs": [],
   "source": [
    "executable_path = {'executable_path': 'chromedriver.exe'}\n",
    "browser = Browser('chrome', **executable_path, headless=True)\n",
    "# ran browser: headless=False during build and testing, set to True for submission"
   ]
  },
  {
   "cell_type": "code",
   "execution_count": 3,
   "metadata": {},
   "outputs": [],
   "source": [
    "# scrape NASA Mars News Site\n",
    "\n",
    "news_url = \"http://mars.nasa.gov/news/?page=0&per_page=40&order=publish_date+desc%2Ccreated_at+desc&search=&category=19%2C165%2C184%2C204&blank_scope=Latest\"\n",
    "browser.visit(news_url)\n",
    "news_response = browser.html\n",
    "soup_news = bs(news_response, 'html.parser')\n",
    "# print(soup_news.prettify())"
   ]
  },
  {
   "cell_type": "code",
   "execution_count": 4,
   "metadata": {},
   "outputs": [],
   "source": [
    "# collect news title and paragraph text (in variables \"news_title\" and \"news_p\" for later use)\n",
    "\n",
    "news_title = soup_news.find('div', class_='content_title').text.strip()\n",
    "news_teaser = soup_news.find('div', class_='article_teaser_body' ).text.strip()\n",
    "# print(news_title)\n",
    "# print(news_teaser)"
   ]
  },
  {
   "cell_type": "code",
   "execution_count": 5,
   "metadata": {},
   "outputs": [],
   "source": [
    "# visit url for JPL Featured Space image ( )\n",
    "\n",
    "jpl_url = \"https://www.jpl.nasa.gov/spaceimages/?search=&category=Mars\"\n",
    "\n",
    "browser.visit(jpl_url)\n",
    "jpl_response = browser.html\n",
    "soup_jpl = bs(jpl_response, 'html.parser')\n",
    "# print(soup_jpl.prettify())"
   ]
  },
  {
   "cell_type": "code",
   "execution_count": 6,
   "metadata": {},
   "outputs": [],
   "source": [
    "# find image url for current Featured Mars Image and assign to \"featured_image_url\"\n",
    "# ensure it's the full size .jpg (not a thumbnail)\n",
    "\n",
    "footer = soup_jpl.find('footer')\n",
    "featured_img_a = footer.find('a')\n",
    "url_tag = featured_img_a['data-fancybox-href']\n",
    "featured_image_url = (\"https://www.jpl.nasa.gov\" + url_tag)\n",
    "# print(featured_image_url)"
   ]
  },
  {
   "cell_type": "code",
   "execution_count": 7,
   "metadata": {},
   "outputs": [],
   "source": [
    "# visit Mars Twitter\n",
    "\n",
    "mars_twitter_url = \"https://twitter.com/marswxreport?lang=en\"\n",
    "\n",
    "browser.visit(mars_twitter_url)\n",
    "twitter_response = browser.html\n",
    "soup_twitter = bs(twitter_response, 'html.parser')\n",
    "# print(soup_twitter.prettify())"
   ]
  },
  {
   "cell_type": "code",
   "execution_count": 8,
   "metadata": {},
   "outputs": [],
   "source": [
    "# scape latest weather tweet and assign the text to \"mars_weather\"\n",
    "\n",
    "mars_weather = soup_twitter.find('p', class_=\"TweetTextSize--normal\").text\n",
    "# print(mars_weather)"
   ]
  },
  {
   "cell_type": "code",
   "execution_count": 9,
   "metadata": {},
   "outputs": [],
   "source": [
    "# visit Mars Facts page\n",
    "\n",
    "mars_facts_url = \"https://space-facts.com/mars/\"\n",
    "    \n",
    "browser.visit(mars_facts_url)\n",
    "fact_response = browser.html\n",
    "soup_fact = bs(fact_response, 'html.parser')\n",
    "# print(soup_fact.prettify())"
   ]
  },
  {
   "cell_type": "code",
   "execution_count": 10,
   "metadata": {},
   "outputs": [],
   "source": [
    "# use pandas to scrape the table of Mars info and convert that table to_html\n",
    "\n",
    "mars_table = pd.read_html(mars_facts_url)\n",
    "mars_facts_df = mars_table[1]\n",
    "# mars_facts_df"
   ]
  },
  {
   "cell_type": "code",
   "execution_count": 11,
   "metadata": {},
   "outputs": [],
   "source": [
    "mars_facts_html = mars_facts_df.to_html(index=False, header=False)\n",
    "# mars_facts_html"
   ]
  },
  {
   "cell_type": "code",
   "execution_count": 12,
   "metadata": {},
   "outputs": [],
   "source": [
    "# visit Mars astrogeology site and get high res images of each hemisphere (through link clicking)\n",
    "\n",
    "astro_url = \"https://astrogeology.usgs.gov/search/results?q=hemisphere+enhanced&k1=target&v1=Mars\"\n",
    "\n",
    "browser.visit(astro_url)\n",
    "astro_response = browser.html\n",
    "soup_astro = bs(astro_response, 'html.parser')\n",
    "# print(soup_astro)"
   ]
  },
  {
   "cell_type": "code",
   "execution_count": 13,
   "metadata": {},
   "outputs": [],
   "source": [
    "hem_image_set = soup_astro.find_all(\"div\", class_=\"description\")\n",
    "\n",
    "mars_image_urls = []\n",
    "\n",
    "for link in hem_image_set:\n",
    "    url_dict = {}    \n",
    "    hem_name = link.find(\"h3\").text[:-9]\n",
    "    hem_search = link.find(\"h3\").text[:5]\n",
    "    url_dict['title'] = hem_name\n",
    "    browser.click_link_by_partial_text(hem_search)\n",
    "    browser.click_link_by_partial_text(\"Sample\")\n",
    "    url_dict['img_url'] = browser.windows[1].url\n",
    "    browser.windows[1].close()\n",
    "    browser.back()\n",
    "    mars_image_urls.append(url_dict)"
   ]
  }
 ],
 "metadata": {
  "kernelspec": {
   "display_name": "Python 3",
   "language": "python",
   "name": "python3"
  },
  "language_info": {
   "codemirror_mode": {
    "name": "ipython",
    "version": 3
   },
   "file_extension": ".py",
   "mimetype": "text/x-python",
   "name": "python",
   "nbconvert_exporter": "python",
   "pygments_lexer": "ipython3",
   "version": "3.7.3"
  },
  "varInspector": {
   "cols": {
    "lenName": 16,
    "lenType": 16,
    "lenVar": 40
   },
   "kernels_config": {
    "python": {
     "delete_cmd_postfix": "",
     "delete_cmd_prefix": "del ",
     "library": "var_list.py",
     "varRefreshCmd": "print(var_dic_list())"
    },
    "r": {
     "delete_cmd_postfix": ") ",
     "delete_cmd_prefix": "rm(",
     "library": "var_list.r",
     "varRefreshCmd": "cat(var_dic_list()) "
    }
   },
   "types_to_exclude": [
    "module",
    "function",
    "builtin_function_or_method",
    "instance",
    "_Feature"
   ],
   "window_display": false
  }
 },
 "nbformat": 4,
 "nbformat_minor": 2
}
